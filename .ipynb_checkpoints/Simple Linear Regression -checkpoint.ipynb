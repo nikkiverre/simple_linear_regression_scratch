{
 "cells": [
  {
   "cell_type": "markdown",
   "id": "10319b75",
   "metadata": {},
   "source": [
    "## Simple Linear Regression from Scrach"
   ]
  },
  {
   "cell_type": "code",
   "execution_count": 1,
   "id": "4394ffa9",
   "metadata": {},
   "outputs": [],
   "source": [
    "#Linear regression can be used to find a best fit line for a set of data. The following a list of steps to understand \n",
    "#a simple linear regression model.\n",
    "\n",
    "#Pick a random value for the slope and intercept to have a starting point for a line that fits the data. \n",
    "\n",
    "import matplotlib.pyplot as plt\n",
    "\n",
    "#data points in our example:\n",
    "\n",
    "x_values = [1, 2, 3, 4, 5, 6, 7, 8, 9, 10, 11, 12]\n",
    "y_values = [25, 24, 29, 29, 35, 38, 40, 46, 47, 48, 56, 68]\n",
    "\n",
    "m_guess=5  #starting guess\n",
    "b_guess=20  #starting guess\n",
    "\n"
   ]
  },
  {
   "cell_type": "code",
   "execution_count": 2,
   "id": "611fb5a4",
   "metadata": {},
   "outputs": [
    {
     "data": {
      "image/png": "[encoded data removed]",
      "text/plain": [
       "<Figure size 432x288 with 1 Axes>"
      ]
     },
     "metadata": {
      "needs_background": "light"
     },
     "output_type": "display_data"
    },
    {
     "name": "stdout",
     "output_type": "stream",
     "text": [
      "[25, 30, 35, 40, 45, 50, 55, 60, 65, 70, 75, 80]\n"
     ]
    }
   ],
   "source": [
    "#Create a line using our baseline slope and intercept values (y = m*x + b for each of the x_values) in this data set\n",
    "\n",
    "y_predicted = [x * m_guess + b_guess for x in x_values]  \n",
    "\n",
    "plt.plot(x_values, y_values, \"o\")\n",
    "plt.plot(x_values, y_predicted)  #our starting best fit line using our \"guess\" m and b values\n",
    "plt.show()\n",
    "\n",
    "print(y_predicted)"
   ]
  },
  {
   "cell_type": "markdown",
   "id": "aecf7282",
   "metadata": {},
   "source": [
    "## Understanding loss\n",
    "One way to measure loss is to take the sum of the squared distance from each of the data point to the predicted line:\n",
    "\n",
    "for i in range(len(x_values)):\n",
    "    total_loss += (y_values[i] - y_predicted[i])**2\n",
    "\n",
    "## Our goal is to minimize this loss or optimize this loss. One type of optimization algorithm is Gradient Descent. Gradient descent will iteratively move closer to the slope and intercept that will minimize the loss. We move in the direction that decreases the loss.\n",
    "\n"
   ]
  },
  {
   "cell_type": "code",
   "execution_count": 13,
   "id": "c38f870f",
   "metadata": {},
   "outputs": [],
   "source": [
    "#Step 1: Find the gradient of the loss curve as the intercept changes. The formula is dervied using calculus:\n",
    "# sum of (y_value - (m*x_value + b) for all the x and y values). Then this is multiplied by -2/N (N = number of points)\n",
    "\n",
    "### b_gradient is the gradient of the loss curve at our current guess for b\n",
    "def b_gradient(x, y, m, b):\n",
    "    total = 0\n",
    "    N = len(x)\n",
    "    for i in range(len(x)):\n",
    "        total += y[i] - ((m*x[i]) + b)\n",
    "    b_grad = -(2/N) * total\n",
    "    return b_grad"
   ]
  },
  {
   "cell_type": "code",
   "execution_count": 4,
   "id": "26f08474",
   "metadata": {},
   "outputs": [],
   "source": [
    "#Step 2: Find the gradient of loss as the slope of the line changes:\n",
    "# -2/N(x_value * (y_value - (m*x_value + b))) for all x and y values and where N = # of points\n",
    "# m is the gradient guess; b is the intercept guess; x and y are data points\n",
    "\n",
    "def m_gradient(x, y, m, b):\n",
    "    total = 0\n",
    "    N = len(x)\n",
    "    for i in range(len(x)):\n",
    "        total += x[i] * (y[i] - ((m*x[i]) + b))\n",
    "    m_gradient = -(2/N) * total\n",
    "    return m_gradient\n",
    "        "
   ]
  },
  {
   "cell_type": "markdown",
   "id": "6e041024",
   "metadata": {},
   "source": [
    "## Learning Rate. We keep taking \"steps\" towards the direction of lower loss. In order to make sure we don't step too big or too small, we multiply the steps by a learning rate. "
   ]
  },
  {
   "cell_type": "code",
   "execution_count": 5,
   "id": "b92ca01a",
   "metadata": {},
   "outputs": [],
   "source": [
    "#Step 3: function will \"step\" using the learning rate. Common learning rate is 0.01\n",
    "\n",
    "def step_gradient(b_current, m_current, x, y, learning_rate):\n",
    "    b_grad = b_gradient(x, y, b_current, m_current)\n",
    "    m_grad = m_gradient(x, y, b_current, m_current)\n",
    "    b = b_current - (learning_rate * b_grad)\n",
    "    m = m_current - (learning_rate * m_grad)\n",
    "    return [b, m]"
   ]
  },
  {
   "cell_type": "code",
   "execution_count": 6,
   "id": "528a35b5",
   "metadata": {},
   "outputs": [],
   "source": [
    "#Step 4: gradient descent will iteratively move towards the b and m that minimizes the loss \n",
    "def gradient_descent(x, y, learning_rate, num_iterations):\n",
    "  b = 0\n",
    "  m = 0\n",
    "  for i in range(num_iterations):\n",
    "    b, m = step_gradient(b, m, x, y, learning_rate)\n",
    "  return [b,m]  "
   ]
  },
  {
   "cell_type": "code",
   "execution_count": 12,
   "id": "a8cc8018",
   "metadata": {},
   "outputs": [
    {
     "name": "stdout",
     "output_type": "stream",
     "text": [
      "17.042781500999236 3.5888159839743947\n"
     ]
    },
    {
     "data": {
      "image/png": "[encoded data removed]",
      "text/plain": [
       "<Figure size 432x288 with 1 Axes>"
      ]
     },
     "metadata": {
      "needs_background": "light"
     },
     "output_type": "display_data"
    },
    {
     "name": "stdout",
     "output_type": "stream",
     "text": [
      "[20.631597484973632, 24.220413468948024, 27.80922945292242, 31.398045436896815, 34.98686142087121, 38.57567740484561, 42.16449338882, 45.75330937279439, 49.34212535676879, 52.93094134074319, 56.519757324717574, 60.10857330869197]\n"
     ]
    }
   ],
   "source": [
    "#Step 5: Test out the results\n",
    "x = [1, 2, 3, 4, 5, 6, 7, 8, 9, 10, 11, 12]\n",
    "y = [25, 24, 29, 29, 35, 38, 40, 46, 47, 48, 56, 68]\n",
    "\n",
    "b, m = gradient_descent(x, y, 0.01, 1000)\n",
    "print(b,m)\n",
    "y_final = [x_val * m + b for x_val in x]  \n",
    "\n",
    "plt.plot(x, y, \"o\")\n",
    "plt.plot(x, y_final)  \n",
    "\n",
    "plt.show()\n",
    "\n",
    "print(y_final)"
   ]
  },
  {
   "cell_type": "code",
   "execution_count": null,
   "id": "f678a99a",
   "metadata": {},
   "outputs": [],
   "source": []
  }
 ],
 "metadata": {
  "kernelspec": {
   "display_name": "Python 3",
   "language": "python",
   "name": "python3"
  },
  "language_info": {
   "codemirror_mode": {
    "name": "ipython",
    "version": 3
   },
   "file_extension": ".py",
   "mimetype": "text/x-python",
   "name": "python",
   "nbconvert_exporter": "python",
   "pygments_lexer": "ipython3",
   "version": "3.8.8"
  }
 },
 "nbformat": 4,
 "nbformat_minor": 5
}
